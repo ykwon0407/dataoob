{
 "cells": [
  {
   "cell_type": "markdown",
   "id": "c00c9980",
   "metadata": {},
   "source": [
    "# DataOOB on Magictelescope dataset\n",
    "- This Jupyter notebook demonstrates Data-OOB and existing data valuation methods including leave-one-out, KNNShap, DataShap, and BetaShap. \n",
    "- We use the \"Magictelescope\" dataset. An instruction to download other datasets is available at `dataoob/preprocess`."
   ]
  },
  {
   "cell_type": "code",
   "execution_count": 1,
   "id": "814d4611",
   "metadata": {},
   "outputs": [],
   "source": [
    "import pickle\n",
    "import numpy as np\n",
    "import sys\n",
    "sys.path.append('../dataoob')\n",
    "import datasets\n",
    "from data_valuation import DataValuation\n",
    "\n",
    "import warnings\n",
    "warnings.filterwarnings('ignore')"
   ]
  },
  {
   "cell_type": "code",
   "execution_count": 2,
   "id": "61e3c5ff",
   "metadata": {},
   "outputs": [],
   "source": [
    "dataset='magictelescope'\n",
    "problem='clf'\n",
    "dargs = {'n_data_to_be_valued':300, \n",
    "        'n_val':30, \n",
    "        'n_test':3000,\n",
    "        'n_trees':800,\n",
    "        'openml_clf_path':'../dataoob/preprocess/tmp/dataset_clf_openml',\n",
    "        'is_noisy':0.1,\n",
    "        'model_family':'Tree',\n",
    "        'run_id':0}"
   ]
  },
  {
   "cell_type": "markdown",
   "id": "61d9299d",
   "metadata": {},
   "source": [
    "# Load dataset and prepare DataValuation engine"
   ]
  },
  {
   "cell_type": "code",
   "execution_count": 3,
   "id": "b460c3df",
   "metadata": {},
   "outputs": [
    {
     "name": "stdout",
     "output_type": "stream",
     "text": [
      "------------------------------\n",
      "{'n_data_to_be_valued': 300, 'n_val': 30, 'n_test': 3000, 'n_trees': 800, 'openml_clf_path': '../dataoob/preprocess/tmp/dataset_clf_openml', 'is_noisy': 0.1, 'model_family': 'Tree', 'run_id': 0}\n",
      "--------------------------------------------------\n",
      "MagicTelescope\n",
      "--------------------------------------------------\n",
      "Train X: (300, 10)\n",
      "Val X: (30, 10)\n",
      "Test X: (3000, 10)\n",
      "------------------------------\n"
     ]
    }
   ],
   "source": [
    "# Load dataset\n",
    "(X, y), (X_val, y_val), (X_test, y_test), noisy_index=datasets.load_data(problem, dataset, **dargs)\n",
    "\n",
    "# instantiate data valuation engine\n",
    "data_valuation_engine=DataValuation(X=X, y=y, \n",
    "                                    X_val=X_val, y_val=y_val, \n",
    "                                    problem=problem, dargs=dargs)"
   ]
  },
  {
   "cell_type": "markdown",
   "id": "71db4c95",
   "metadata": {},
   "source": [
    "# Compute data values\n",
    "- `compute_marginal_contribution_based_methods` computes marginal-based methods, namely Leave-one-out, DataShap, KNNShap, and BetaShap. If the marginal contribution computation takes too long, you can skip it by feeding `betashap_run=False`. \n",
    "- `compute_oob_and_ame` computes Data-OOB and AME."
   ]
  },
  {
   "cell_type": "code",
   "execution_count": null,
   "id": "b339fd87",
   "metadata": {},
   "outputs": [
    {
     "name": "stdout",
     "output_type": "stream",
     "text": [
      "Start: KNN_Shapley computation\n",
      "Done: KNN_Shapley computation\n",
      "Start: LOO computation\n",
      "Done: LOO computation\n",
      "Start: Beta_Shapley computation\n",
      "Start: marginal contribution computation\n"
     ]
    }
   ],
   "source": [
    "%%time\n",
    "# compute data values\n",
    "data_valuation_engine.compute_marginal_contribution_based_methods(betashap_run=True)\n",
    "data_valuation_engine.compute_oob_and_ame()"
   ]
  },
  {
   "cell_type": "markdown",
   "id": "522da282",
   "metadata": {},
   "source": [
    "# Evaluate the quality of data values"
   ]
  },
  {
   "cell_type": "code",
   "execution_count": null,
   "id": "e8efe47d",
   "metadata": {
    "scrolled": false
   },
   "outputs": [],
   "source": [
    "data_valuation_engine.evaluate_data_values(noisy_index, X_test, y_test, removal_run=True)"
   ]
  },
  {
   "cell_type": "code",
   "execution_count": null,
   "id": "5694b18d",
   "metadata": {},
   "outputs": [],
   "source": [
    "# The larger, the better\n",
    "data_valuation_engine.noisy_detect_dict"
   ]
  },
  {
   "cell_type": "code",
   "execution_count": null,
   "id": "6659076d",
   "metadata": {},
   "outputs": [],
   "source": []
  },
  {
   "cell_type": "code",
   "execution_count": null,
   "id": "bf8ff76f",
   "metadata": {},
   "outputs": [],
   "source": []
  }
 ],
 "metadata": {
  "kernelspec": {
   "display_name": "Python 3 (ipykernel)",
   "language": "python",
   "name": "python3"
  },
  "language_info": {
   "codemirror_mode": {
    "name": "ipython",
    "version": 3
   },
   "file_extension": ".py",
   "mimetype": "text/x-python",
   "name": "python",
   "nbconvert_exporter": "python",
   "pygments_lexer": "ipython3",
   "version": "3.10.8"
  }
 },
 "nbformat": 4,
 "nbformat_minor": 5
}
